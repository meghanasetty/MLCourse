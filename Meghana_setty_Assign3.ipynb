{
 "cells": [
  {
   "cell_type": "markdown",
   "metadata": {},
   "source": [
    "# Assignment #3 - Reinforcement Learning\n",
    "\n",
    "### <font color=\"red\"> DUE: Nov 2 (Friday) 11:00 pm </font>  "
   ]
  },
  {
   "cell_type": "markdown",
   "metadata": {},
   "source": [
    "<font color=\"blue\"> Meghana Setty </font>\n",
    "<br/>\n",
    "<font color=\"blue\"> 801074198 </font>"
   ]
  },
  {
   "cell_type": "markdown",
   "metadata": {},
   "source": [
    "# I. Overview\n",
    "\n",
    "The objective of the assignment is to apply reinforcement learning algorithms like SARSA/QLearning to some of the well played puzzle games like MAZE and Poker.\n",
    "\n",
    "I have used SARSA reinforcement algorithm to learn the MAZE and Poker environment."
   ]
  },
  {
   "cell_type": "markdown",
   "metadata": {},
   "source": [
    "# II. Problems \n",
    "\n",
    "## A. Maze Problem (Practice)\n",
    "\n",
    "### Description\n",
    "This is a classic Maze Problem which contains lot of passages and walls. We have a start position and goal position. The user must find the path from start postion to the goal by passing through the passages. The goal can be reached from multiple paths. The optimum path is the one where we reach the goal in minimum number of steps.\n",
    "\n",
    "### GridWorld Environment\n",
    "To design our agent to find the path in the Maze, we have designed an environment,\"GRIDWORLD Environment.\"\n",
    "The **gridworld** is represented in a text file with open spaces, walls and goal location.\n",
    "The agent can pass through the openspaces to find the goal position.\n",
    "In the text file, the open positions are represented by **'O'**, the walls are represented by **'H'** and the Goal position by **'G'**.\n",
    "\n",
    "The agent can move in four directions in the grid. UP,DOWN,LEFT,RIGHT. These are the actions for the grid. The actions are valid only if they are within the grid. If the agent goes out the grid we give a reward of -5.\n",
    "Rewards given to the agent:\n",
    "1. If the agent goes out of the grid,moves to an invalid state or hits a wall, we give a reward of -5\n",
    "2. As we want to limit the number of steps the agent takes to reach the goal, we give a reward of -1 for every step it takes.\n",
    "3. Whenever the agent reached the goal, we give a positive reward of 30."
   ]
  },
  {
   "cell_type": "markdown",
   "metadata": {},
   "source": [
    "### Sample Grid Environment File\n",
    "\n",
    "Simple text file with three characters, 'O', 'H', and 'G'.\n",
    "- 'O': open space\n",
    "- 'H': Wall or obstacles\n",
    "- 'G': Goal location "
   ]
  },
  {
   "cell_type": "code",
   "execution_count": 86,
   "metadata": {},
   "outputs": [],
   "source": [
    "import collections\n",
    "import numpy as np\n",
    "import matplotlib.pyplot as plt\n",
    "%matplotlib inline"
   ]
  },
  {
   "cell_type": "markdown",
   "metadata": {},
   "source": [
    "### GridWorld Class\n"
   ]
  },
  {
   "cell_type": "code",
   "execution_count": 87,
   "metadata": {},
   "outputs": [],
   "source": [
    "# maze example\n",
    "\n",
    "class GridWorld:\n",
    "    \"\"\" Grid World environment\n",
    "            there are four actions (left, right, up, and down) to move an agent\n",
    "            In a grid, if it reaches a goal, it get 30 points of reward.\n",
    "            If it falls in a hole or moves out of the grid world, it gets -5.\n",
    "            Each step costs -1 point. \n",
    "\n",
    "        to test GridWorld, run the following sample codes:\n",
    "\n",
    "            env = GridWorld('grid.txt')\n",
    "\n",
    "            env.print_map()\n",
    "            print [2,3], env.check_state([2,3])\n",
    "            print [0,0], env.check_state([0,0])\n",
    "            print [3,4], env.check_state([3,4])\n",
    "            print [10,3], env.check_state([10,3])\n",
    "\n",
    "            env.init([0,0])\n",
    "            print env.next(1)  # right\n",
    "            print env.next(3)  # down\n",
    "            print env.next(0)  # left\n",
    "            print env.next(2)  # up\n",
    "            print env.next(2)  # up\n",
    "\n",
    "        Parameters\n",
    "        ==========\n",
    "        _map        ndarray\n",
    "                    string array read from a file input\n",
    "        _size       1d array\n",
    "                    the size of _map in ndarray\n",
    "        goal_pos    tuple\n",
    "                    the index for the goal location\n",
    "        _actions    list\n",
    "                    list of actions for 4 actions\n",
    "        _s          1d array\n",
    "                    current state\n",
    "    \"\"\"\n",
    "    def __init__(self, fn):\n",
    "        # read a map from a file\n",
    "        self._map = self.read_map(fn)\n",
    "        self._size = np.asarray(self._map.shape)\n",
    "        self.goal_pos = np.where(self._map == 'G')\n",
    "\n",
    "        # definition of actions (left, right, up, and down repectively)\n",
    "        self._actions = [[0, -1], [0, 1], [-1, 0], [1, 0]]\n",
    "        self._s = None\n",
    "\n",
    "    def get_cur_state(self):\n",
    "        return self._s\n",
    "\n",
    "    def get_size(self):\n",
    "        return self._size\n",
    "\n",
    "    def read_map(self, fn):\n",
    "        grid = []\n",
    "        with open(fn) as f:\n",
    "            for line in f:\n",
    "               grid.append(list(line.strip()))\n",
    "        return np.asarray(grid)\n",
    "\n",
    "    def print_map(self):\n",
    "        print( self._map )\n",
    "\n",
    "    def check_state(self, s):\n",
    "        if isinstance(s, collections.Iterable) and len(s) == 2:\n",
    "            if s[0] < 0 or s[1] < 0 or\\\n",
    "               s[0] >= self._size[0] or s[1] >= self._size[1]:\n",
    "               return 'N'\n",
    "            return self._map[tuple(s)].upper()\n",
    "        else:\n",
    "            return 'F'  # wrong input\n",
    "\n",
    "    def init(self, state=None):\n",
    "        if state is None:\n",
    "            s = [0, 0]\n",
    "        else:\n",
    "            s = state\n",
    "\n",
    "        if self.check_state(s) == 'O':\n",
    "            self._s = np.asarray(state)\n",
    "        else:\n",
    "            raise ValueError(\"Invalid state for init\")\n",
    "\n",
    "    def next(self, a):\n",
    "        s1 = self._s + self._actions[a]\n",
    "        # state transition\n",
    "        curr = self.check_state(s1)\n",
    "        \n",
    "        if curr == 'H' or curr == 'N':\n",
    "            return -5\n",
    "        elif curr == 'F':\n",
    "            warnings.warn(\"invalid state \" + str(s1))\n",
    "            return -5\n",
    "        elif curr == 'G':\n",
    "            self._s = s1\n",
    "            return 30\n",
    "        else:\n",
    "            self._s = s1\n",
    "            return -1\n",
    "        \n",
    "    def is_goal(self):\n",
    "        return self.check_state(self._s) == 'G'\n",
    "            \n",
    "    def get_actions(self):\n",
    "        return self._actions"
   ]
  },
  {
   "cell_type": "code",
   "execution_count": 88,
   "metadata": {},
   "outputs": [
    {
     "name": "stdout",
     "output_type": "stream",
     "text": [
      "[['O' 'O' 'O' 'H' 'O' 'O' 'O' 'O' 'O']\n",
      " ['O' 'O' 'O' 'H' 'O' 'O' 'H' 'O' 'O']\n",
      " ['O' 'O' 'O' 'O' 'O' 'O' 'H' 'O' 'O']\n",
      " ['O' 'O' 'O' 'O' 'H' 'H' 'H' 'O' 'O']\n",
      " ['O' 'O' 'H' 'O' 'O' 'O' 'O' 'O' 'H']\n",
      " ['O' 'O' 'H' 'O' 'O' 'O' 'G' 'O' 'O']\n",
      " ['O' 'O' 'O' 'O' 'O' 'O' 'O' 'O' 'O']]\n"
     ]
    }
   ],
   "source": [
    "env = GridWorld(\"grid.txt\")\n",
    "env.print_map()"
   ]
  },
  {
   "cell_type": "code",
   "execution_count": 89,
   "metadata": {},
   "outputs": [],
   "source": [
    "# top-left to (0,0)\n",
    "def coord_convert(s, sz):\n",
    "    return [s[1], sz[0]-s[0]-1]"
   ]
  },
  {
   "cell_type": "markdown",
   "metadata": {},
   "source": [
    "## B. One-Card Poker  \n",
    "\n",
    "![](http://www.poker-vibe.com/poker/terms/case-card/Case-Card.jpg)"
   ]
  },
  {
   "cell_type": "markdown",
   "metadata": {},
   "source": [
    "<font color=\"red\"> Game Introduction and Rules: </font>\n",
    "1. This is a 1-card poker game. Where each player can blindly bet from 0 (fold), 1, 2 or 3 in the first round. In the next round only the player who havent matched the max amount( from all the players) will be given a chance to bet additional amount to match or fold. \n",
    "\n",
    "\n",
    "2. Each player will be able to see his/her own card and the total pot balance and all other player's balance and their current bet on for the round i.e this is what you can call the current state of the game. <br>\n",
    "\n",
    "    a. <font color=\"red\"> Example1 </font>: 3 players in game i.e. player1, computer1, computer2. First round, player1        bets 3, computer1 bets 2 and computer2 bets 1. Next round only computer1 and computer2 will be given a chance          to match the bet as player1 has max bet so computer1's available actions will be (0, 1) and computer2's                available actions will be (0, 2).<br>\n",
    "    \n",
    "    b. After they match or fold the result will be given. <br>\n",
    "    \n",
    "    c. This case is applicable for player1 being the one who needs to match. <font color=\"red\"> Example2 </font>: 3          players in game i.e player1, computer1, computer2. First round, player1 bets 1, computer1 bets 2 and                  computer2 bets 3. Next round only player1 and computer1 will have chance to bet and match or fold. <br>\n",
    "       \n",
    "    d. The examples described above will be 1 round each, this will continue until player1 losses all the money or            computer1 and computer2 will be out of money. <br>\n",
    "    \n",
    "This is a local version of the game, your final competition if you decide to participate will be hosted on server. The local version, you can add multiple computer players in the game but only single agent.\n",
    "\n",
    "This way you can train your agent to play against 1,2,3,4 \n"
   ]
  },
  {
   "cell_type": "markdown",
   "metadata": {},
   "source": [
    "### Description of Poker Problem\n",
    "For our Poker problem, we have only two players.\n",
    "1. Player(agent)\n",
    "2. Computer\n",
    "\n",
    "The goal of the agent is to win the game. The actions of the agent in the first round is to fold or bet(1,2 or 3). WHile in the second round the agent can fold or match the bet.\n",
    "We are training the agent such that it analyses the card, and few other parameters to decide whether it can fold or bet the game. "
   ]
  },
  {
   "cell_type": "markdown",
   "metadata": {},
   "source": [
    "### Player Class\n",
    "\n",
    "This contains the player information:\n",
    "1. Player Name: The different players are identified by the player_name\n",
    "2. card : The value of the card which is generated randomly for every game\n",
    "3. total_balance: The balance remaining with the player\n",
    "4. current_bet: The bet value currently made in the deal.\n",
    "5. is_computer: To determine if the player is the agent or the computer\n",
    "6. is_active: This is true when the player still have a balance/can play the game\n",
    "7. number_of_turn: This increases as the round increases\n",
    "8. match_bet: This is used to determine if the player matched the bet with the other player/computer\n",
    "\n",
    "### Poker Class\n",
    "\n",
    "1. The Poker class intially takes the number of players in the game.\n",
    "2. We add the players by giving the player name using add_player method. The add_player returns exception when the number of players exceeds the players that are being added.\n",
    "3. We start a deal() - which return True if there are more than one player playing the game or return False otherwise. If draws the card during the first deal for each player\n",
    "4. The get_valid_actions() get the valid actions for the players(for round 1, he can choose anyone of the 4 actions whereas in round 2, he can either match the bet or fold)\n",
    "5. We then choose one action from the above valid_actions and use player_play() function to play the game. The player_play() function include the computer_play() also which allows the computer to play the game.\n",
    "6. We then use the function check_and_return_reward function to check which player won and return the reward if the game is won by the player. If the game is a draw, we share the total_pot_balance equally to the players.\n"
   ]
  },
  {
   "cell_type": "markdown",
   "metadata": {},
   "source": [
    "## One-Card Poker Environment"
   ]
  },
  {
   "cell_type": "code",
   "execution_count": 6,
   "metadata": {},
   "outputs": [],
   "source": [
    "import copy\n",
    "deck = [1, 2, 3, 4, 5, 6, 7, 8, 9, 10, 11, 12, 13]\n",
    "def draw_card():\n",
    "    return deck[np.random.randint(0, 13)]"
   ]
  },
  {
   "cell_type": "code",
   "execution_count": 7,
   "metadata": {},
   "outputs": [],
   "source": [
    "class Player():\n",
    "    \"\"\"\n",
    "        \n",
    "        Player class to create a player object.\n",
    "        eg: player = Player(\"player1\", start_balance = 10, is_computer = 0)\n",
    "        Above declaration will be for your agent. Only one non-computer\n",
    "        player allowed in the local poker instance.\n",
    "        However, you can create as many as you want computer_players \n",
    "        (test for 3 players but you can try more) i.e\n",
    "        computer = Player(\"computer\", start_balance = 10, is_computer = 1).\n",
    "        All the player names should be unique or else you will get error.\n",
    "        \n",
    "    \"\"\"\n",
    "    def __init__(self, player_name, start_balance = 10, is_computer = 0):\n",
    "        self.player_name = player_name\n",
    "        self.card = None\n",
    "        self.total_balance = start_balance\n",
    "        self.current_bet = 0\n",
    "        self.is_computer = is_computer\n",
    "        self.is_active = 0\n",
    "        self.number_of_turn = 0\n",
    "        self.match_bet = False\n",
    "    \n",
    "    def get_info(self):\n",
    "        print(\"Player name: {}\".format(self.player_name))\n",
    "        print(\"Player card: {}\".format(self.card))\n",
    "        print(\"Player total_balance: {}\".format(self.total_balance))\n",
    "        print(\"Player is_active: {}\".format(self.is_active))\n",
    "        "
   ]
  },
  {
   "cell_type": "code",
   "execution_count": 8,
   "metadata": {},
   "outputs": [],
   "source": [
    "class Poker():\n",
    "    \"\"\"\n",
    "        Poker class will be the environment. \n",
    "        Important functions for users:\n",
    "        1. Init Poker class i.e poker = Poker(number_of_player = 2)\n",
    "           <Please dont add more than the number you declare here)\n",
    "        2. add_player(player1) - adds player1 object to the game.\n",
    "        3. get_current_state - gets the current state of the env\n",
    "           {'other_stats': [[9, 1] ,[9, 1]], 'total_pot_balance': 2, 'player_stats': [6, 9, 1]}\n",
    "           other_stats will contain the opponent information's balance and their current bet\n",
    "           total_pot_balance will have total bet played by all players\n",
    "           player_stats will contain player_card, player total balance, player current bet\n",
    "        4. get_valid_actions -  returns the valid action available for the player\n",
    "           based on balance and which round the player is in. You should take actions\n",
    "           based on the return value.\n",
    "           \n",
    "    \n",
    "    \"\"\"\n",
    "    def __init__(self, number_of_player = 2):\n",
    "        self.all_players = []\n",
    "        self.total_players = number_of_player\n",
    "        self.total_pot_balance = 0\n",
    "        self.player = None\n",
    "        self.actions = [0, 1, 2, 3]\n",
    "        self.number_of_turn = 0\n",
    "        self.max_bet = 0\n",
    "        \n",
    "    def add_player(self, player_class):\n",
    "        if player_class not in self.all_players and self.total_players > 0:\n",
    "            self.all_players.append(player_class)\n",
    "            self.total_players -= 1\n",
    "            if player_class.is_computer == 0:\n",
    "                if self.player == None:\n",
    "                    self.player = player_class\n",
    "                else:\n",
    "                    raise Exception(\"Will override current player ! Only one non-computer player allowed !\")\n",
    "        else:\n",
    "            raise Exception(\"Maximum number of player allowed: {}. You can increase the player count while initializing the environment\".format(len(self.all_players)))\n",
    "    \n",
    "    def check_and_remove_players(self):\n",
    "        player_remove, game_end = [], False\n",
    "        for _player in self.all_players:\n",
    "            if _player.total_balance <= 1:\n",
    "                player_remove.append(_player)\n",
    "        if len(player_remove) > 0:\n",
    "            if self.player not in player_remove:\n",
    "                for player in player_remove:\n",
    "                    #print(\"Removing player: {} due to insufficient funds !!\".format(player.player_name))\n",
    "                    self.all_players.remove(player)                    \n",
    "            else:\n",
    "                #print(\"Player doesnt have balance !\")\n",
    "                game_end = True\n",
    "        return game_end        \n",
    "                \n",
    "    def deal(self):\n",
    "        reset_game = False\n",
    "        self.total_pot_balance = 0\n",
    "        self.number_of_turn = 0\n",
    "        \n",
    "        if self.check_and_remove_players():\n",
    "            reset_game = True\n",
    "        else:\n",
    "            if len(self.all_players) == 1:\n",
    "                reset_game = True\n",
    "            else:\n",
    "                for _player in self.all_players:\n",
    "                    if _player.total_balance > 1:\n",
    "                        _player.card = draw_card()\n",
    "                        _player.total_balance -= 1\n",
    "                        _player.current_bet = 1\n",
    "                        _player.is_active = 1\n",
    "                        _player.number_of_turn = 0\n",
    "                        _player.match_bet = False\n",
    "                        self.total_pot_balance += 1\n",
    "                        self.max_bet = 0\n",
    "                    else:\n",
    "                        #print(\"{} can no longer play the game !\".format(_player.player_name))\n",
    "                        reset_game = True        \n",
    "        return reset_game\n",
    "        \n",
    "    def get_current_state(self):\n",
    "        current_state_dict = {}\n",
    "        current_state_dict['other_stats'] = [[_player.total_balance,_player.current_bet] for _player in self.all_players if _player != self.player]\n",
    "        current_state_dict['total_pot_balance'] = self.total_pot_balance\n",
    "        current_state_dict['player_stats'] = [self.player.card, self.player.total_balance, self.player.current_bet]\n",
    "        return current_state_dict\n",
    "    \n",
    "    def get_valid_actions(self, player_name):\n",
    "        #print('player name ',player_name)\n",
    "        #for players in self.all_players:\n",
    "         #   print('all players ',players.player_name)\n",
    "        list_player = [_player for _player in self.all_players if _player.player_name == player_name]\n",
    "        #print(\"length of list_player \",len(list_player),\" \",list_player)\n",
    "        if len(list_player) == 1:\n",
    "            player = list_player[0] \n",
    "            if player.number_of_turn == 0:\n",
    "                if player.total_balance > 3:\n",
    "                    actions =  [0, 1, 2, 3]\n",
    "                elif player.total_balance <= 3:\n",
    "                    if player.total_balance <= 1:\n",
    "                        actions = [0]\n",
    "                    elif player.total_balance > 1 and player.total_balance <= 2:\n",
    "                        actions =  [0, 1]\n",
    "                    else:\n",
    "                        actions = [0, 1, 2]\n",
    "            else:\n",
    "                possible_max_bet = player.total_balance - (self.max_bet - (player.current_bet - 1))\n",
    "                if possible_max_bet >= 2:\n",
    "                    actions = [0, self.max_bet - (player.current_bet - 1)]\n",
    "                else:\n",
    "                    actions = [0]                        \n",
    "            return actions\n",
    "        else:\n",
    "            raise Exception(\"Invalid player name! Use the player name defined while initialzing the environment\")\n",
    "    \n",
    "    def print_actions(self, player, action):\n",
    "        if action == 0:\n",
    "            #print(\"{} folds\".format(player))\n",
    "            pass\n",
    "        else:\n",
    "            #print(\"{} plays {}.\".format(player, action))\n",
    "            pass\n",
    "        \n",
    "    def computer_play(self):\n",
    "        list_player = [_player for _player in self.all_players if _player.player_name != self.player.player_name and _player.is_active == 1 and _player.match_bet == False]\n",
    "        for player in list_player:\n",
    "            actions_available = self.get_valid_actions(player.player_name)    \n",
    "            #print(\"Available actions for: {} are {}\".format(player.player_name, actions_available))\n",
    "            action_taken = actions_available[np.random.randint(len(actions_available))]\n",
    "            self.print_actions(player.player_name, action_taken)\n",
    "            if self.max_bet == 0 and action_taken != 0 or self.max_bet < action_taken:\n",
    "                self.max_bet = action_taken\n",
    "            self.take_action(player.player_name, action_taken)\n",
    "    \n",
    "    def get_player(self, player_name):\n",
    "        return_player = [player for player in self.all_players if player.player_name == player_name]\n",
    "        if len(return_player) != 1:\n",
    "            #print(\"Invalid Player\")\n",
    "            return None\n",
    "        else:\n",
    "            return return_player[0]\n",
    "        \n",
    "    def take_action(self, player_name, action_taken):\n",
    "        player = self.get_player(player_name)\n",
    "        player.number_of_turn += 1\n",
    "        if action_taken != 0:\n",
    "            player.total_balance -= action_taken\n",
    "            player.current_bet += action_taken\n",
    "            self.total_pot_balance += action_taken\n",
    "            player.is_active = 1\n",
    "        else:\n",
    "            player.is_active = 0\n",
    "            \n",
    "    def check_game(self):\n",
    "        game_over = True\n",
    "        if np.sum([_player.is_active for _player in self.all_players if _player != self.player]) > 0:\n",
    "            game_over = False\n",
    "        return game_over\n",
    "     \n",
    "    def return_winner(self, players):\n",
    "        max_card = np.max([_player.card for _player in players])\n",
    "        return [_player for _player in players if _player.card == max_card]\n",
    "            \n",
    "\n",
    "    def settle_balance(self, winner):\n",
    "        reward = 0\n",
    "        if winner == \"draw\":\n",
    "            active_player = [_player for _player in self.all_players if _player.is_active]\n",
    "            if len(active_player) == 0:\n",
    "                #print(\"Active player cards: {}\".format([(_player.player_name, _player.card) for _player in self.all_players]))\n",
    "                winning_players = self.all_players\n",
    "            else:\n",
    "                #print(\"Active player cards: {}\".format([(_player.player_name, _player.card) for _player in self.all_players if _player.is_active]))\n",
    "                winning_players = self.return_winner(active_player)\n",
    "                \n",
    "            per_player_share = self.total_pot_balance / len(winning_players)\n",
    "            for _player in winning_players:\n",
    "                _player.total_balance += per_player_share\n",
    "            if self.player in winning_players:\n",
    "                reward = per_player_share\n",
    "            else:\n",
    "                reward = -self.player.current_bet\n",
    "            \n",
    "                \n",
    "        if winner == \"player\":\n",
    "            self.player.total_balance += self.total_pot_balance\n",
    "            reward = self.total_pot_balance\n",
    "            winning_players = [self.player]\n",
    "            \n",
    "        if winner == \"computer\":\n",
    "            active_player = [_player for _player in self.all_players if _player != self.player and _player.is_active]\n",
    "            winning_players = self.return_winner(active_player)\n",
    "            per_player_share = self.total_pot_balance / len(winning_players)\n",
    "            for _player in winning_players:\n",
    "                _player.total_balance += per_player_share\n",
    "            reward = -self.player.current_bet\n",
    "            \n",
    "        #print(\"Printing winning players: {}\".format(' '.join([player.player_name for player in winning_players])))\n",
    "        #print(\"Reward : {}\".format(reward))\n",
    "        return reward\n",
    "        \n",
    "    def check_game_return_reward(self, round_num):\n",
    "        #print(\"Check results for Round Number: {}\".format(round_num))\n",
    "        if self.check_game() and self.player.is_active == 0:\n",
    "            #print(\"Computer folds, Player folds !\")\n",
    "            game_over = True\n",
    "            winner = \"draw\"\n",
    "            reward = 0\n",
    "            return game_over, reward, winner \n",
    "        \n",
    "        elif self.check_game() and self.player.is_active:\n",
    "            #print(\"Computer folds, Player active ! \",self.total_pot_balance)\n",
    "            game_over = True\n",
    "            reward = self.total_pot_balance\n",
    "            winner = \"player\"\n",
    "            return game_over, reward, winner \n",
    "        \n",
    "        elif not self.check_game() and self.player.is_active == 0:\n",
    "            #print(\"Computer active, Player folds ! \",-self.player.current_bet)\n",
    "            game_over = True\n",
    "            reward = -self.player.current_bet\n",
    "            winner = \"computer\"\n",
    "            return game_over, reward, winner \n",
    "\n",
    "        if round_num == 1:\n",
    "            #print(\"Computer active, Player active ! \")\n",
    "            game_over = False\n",
    "            reward = 0\n",
    "            winner = \"draw\"\n",
    "            return game_over, reward, winner \n",
    "        \n",
    "        else:\n",
    "            #print(\"Computer active, Player active in Round 2 ! End game now !\")\n",
    "            game_over = True\n",
    "            active_players = [player for player in self.all_players if player.is_active]\n",
    "            #print(\"Active player cards: {}\".format([(_player.player_name, _player.card) for _player in active_players]))\n",
    "            winning_players = self.return_winner(active_players)\n",
    "            if self.player in winning_players:\n",
    "                if len(winning_players) > 1:\n",
    "                    reward = self.total_pot_balance / len(winning_players)\n",
    "                    winner = \"draw\"\n",
    "                else:\n",
    "                    reward = self.total_pot_balance\n",
    "                    winner = \"player\"\n",
    "            else:\n",
    "                reward = -self.player.current_bet\n",
    "                winner = \"computer\"\n",
    "            #print(\"THe reward is \",reward)\n",
    "            return game_over, reward, winner \n",
    "            \n",
    "\n",
    "    \n",
    "    def update_match(self):\n",
    "        for player in [player for player in self.all_players if player.current_bet - 1 == self.max_bet]:\n",
    "            player.match_bet = True\n",
    "    \n",
    "    def check_computer_status(self):\n",
    "        computer_play = False\n",
    "        if len([player for player in self.all_players if player.is_computer == 1 and player.match_bet == False and player.is_active == 1]) > 0:\n",
    "            computer_play = True\n",
    "        return computer_play\n",
    "    \n",
    "    def player_play(self, player_name, action_taken):\n",
    "        game_over = False\n",
    "        reward = 0  \n",
    "        winner = None\n",
    "        self.number_of_turn += 1\n",
    "        \n",
    "        if self.number_of_turn == 1:\n",
    "            if self.max_bet == 0 and action_taken != 0 or self.max_bet < action_taken:\n",
    "                self.max_bet = action_taken\n",
    "            self.print_actions(player_name, action_taken)\n",
    "            self.computer_play()\n",
    "            self.take_action(player_name, action_taken)\n",
    "            self.update_match()\n",
    "            if self.player.is_active:\n",
    "                if self.player.match_bet and not self.check_computer_status():\n",
    "                    #print(\"Player and Computer both Bet Max and match !\")\n",
    "                    _, reward, winner = self.check_game_return_reward(round_num=1)\n",
    "                    game_over = True\n",
    "            else:\n",
    "                if self.check_computer_status():\n",
    "                    #print(\"Player folds, computer players are active, they will play among themselves !\")\n",
    "                    self.computer_play()\n",
    "                game_over, reward, winner = self.check_game_return_reward(round_num=1)\n",
    "                \n",
    "            if game_over:\n",
    "                #print(\"Winner: {}\".format(winner))\n",
    "                new_reward = self.settle_balance(winner)\n",
    "                if winner == \"draw\":\n",
    "                    reward = new_reward\n",
    "            else:\n",
    "                if self.player.match_bet and self.check_computer_status():\n",
    "                    #print(\"Player Bet Max, computer will match now !\")\n",
    "                    self.computer_play()\n",
    "                    game_over, reward, winner = self.check_game_return_reward(round_num=2)\n",
    "                    #print(\"Winner: {}\".format(winner))\n",
    "                    new_reward = self.settle_balance(winner)\n",
    "                    if winner == \"draw\":\n",
    "                        reward = new_reward\n",
    "                    \n",
    "            return self.get_current_state(), reward, game_over\n",
    "        \n",
    "        if self.number_of_turn == 2:\n",
    "            self.print_actions(player_name, action_taken)\n",
    "            self.take_action(player_name, action_taken)\n",
    "            if self.check_computer_status():\n",
    "                self.computer_play()\n",
    "            game_over = True\n",
    "            _, reward, winner = self.check_game_return_reward(round_num=2)\n",
    "            #print(\"Winner: {}\".format(winner))\n",
    "            new_reward = self.settle_balance(winner)\n",
    "            if winner == \"draw\":\n",
    "                reward = new_reward\n",
    "        \n",
    "        return self.get_current_state(), reward, game_over\n",
    "    \n",
    "    \n",
    "        "
   ]
  },
  {
   "cell_type": "markdown",
   "metadata": {},
   "source": [
    "### Example Run with Random Players"
   ]
  },
  {
   "cell_type": "code",
   "execution_count": 9,
   "metadata": {},
   "outputs": [
    {
     "name": "stdout",
     "output_type": "stream",
     "text": [
      "--------------------------------------------------\n",
      "Deal Start!\n",
      "Start State: {'other_stats': [[9, 1]], 'total_pot_balance': 2, 'player_stats': [3, 9, 1]}\n",
      "Available actions for: prajval are [0, 1, 2, 3]\n",
      "Final Result: ({'other_stats': [[9, 1]], 'total_pot_balance': 4, 'player_stats': [3, 11, 3]}, 4, True)\n",
      "**************************************************\n",
      "--------------------------------------------------\n",
      "Deal Start!\n",
      "Start State: {'other_stats': [[8, 1]], 'total_pot_balance': 2, 'player_stats': [1, 10, 1]}\n",
      "Available actions for: prajval are [0, 1, 2, 3]\n",
      "Final Result: ({'other_stats': [[12.0, 3]], 'total_pot_balance': 6, 'player_stats': [1, 8, 3]}, -3, True)\n",
      "**************************************************\n",
      "--------------------------------------------------\n",
      "Deal Start!\n",
      "Start State: {'other_stats': [[11.0, 1]], 'total_pot_balance': 2, 'player_stats': [12, 7, 1]}\n",
      "Available actions for: prajval are [0, 1, 2, 3]\n",
      "Final Result: ({'other_stats': [[12.0, 1]], 'total_pot_balance': 2, 'player_stats': [12, 8.0, 1]}, 1.0, True)\n",
      "**************************************************\n",
      "--------------------------------------------------\n",
      "Deal Start!\n",
      "Start State: {'other_stats': [[11.0, 1]], 'total_pot_balance': 2, 'player_stats': [9, 7.0, 1]}\n",
      "Available actions for: prajval are [0, 1, 2, 3]\n",
      "Available actions for: prajval are [0, 1]\n",
      "Final Result: ({'other_stats': [[16.0, 4]], 'total_pot_balance': 8, 'player_stats': [9, 4.0, 4]}, -4, True)\n",
      "**************************************************\n",
      "--------------------------------------------------\n",
      "Deal Start!\n",
      "Start State: {'other_stats': [[15.0, 1]], 'total_pot_balance': 2, 'player_stats': [4, 3.0, 1]}\n",
      "Available actions for: prajval are [0, 1, 2]\n",
      "Available actions for: prajval are [0]\n",
      "Final Result: ({'other_stats': [[19.0, 4]], 'total_pot_balance': 7, 'player_stats': [4, 1.0, 3]}, -3, True)\n",
      "**************************************************\n"
     ]
    }
   ],
   "source": [
    "poker = Poker(number_of_player=2)\n",
    "player1 = Player(\"prajval\", start_balance = 10, is_computer =  0)\n",
    "computer1 = Player(\"computer1\", start_balance = 10, is_computer = 1)\n",
    "#computer2 = Player(\"computer2\", start_balance = 10, is_computer = 1)\n",
    "poker.add_player(player1)\n",
    "poker.add_player(computer1)\n",
    "#poker.add_player(computer2)\n",
    "while not poker.deal():\n",
    "    print(\"-\"*50)\n",
    "    print(\"Deal Start!\")\n",
    "    print(\"Start State: {}\".format(poker.get_current_state()))\n",
    "    actions = poker.get_valid_actions(\"prajval\")\n",
    "    print(\"Available actions for: prajval are {}\".format(actions))\n",
    "    action_taken = actions[np.random.randint(len(actions))]\n",
    "    result = poker.player_play(\"prajval\", action_taken)\n",
    "    while not result[-1]:\n",
    "        actions = poker.get_valid_actions(\"prajval\")\n",
    "        print(\"Available actions for: prajval are {}\".format(actions))\n",
    "        action_taken = actions[np.random.randint(len(actions))]\n",
    "        result = poker.player_play(\"prajval\", action_taken)\n",
    "    print(\"Final Result: {}\".format(result))\n",
    "    print(\"*\"*50)\n",
    "    "
   ]
  },
  {
   "cell_type": "code",
   "execution_count": 10,
   "metadata": {},
   "outputs": [
    {
     "data": {
      "text/plain": [
       "True"
      ]
     },
     "execution_count": 10,
     "metadata": {},
     "output_type": "execute_result"
    }
   ],
   "source": [
    "poker.deal()"
   ]
  },
  {
   "cell_type": "code",
   "execution_count": 11,
   "metadata": {},
   "outputs": [
    {
     "data": {
      "text/plain": [
       "{'other_stats': [[19.0, 4]],\n",
       " 'total_pot_balance': 0,\n",
       " 'player_stats': [4, 1.0, 3]}"
      ]
     },
     "execution_count": 11,
     "metadata": {},
     "output_type": "execute_result"
    }
   ],
   "source": [
    "poker.get_current_state()"
   ]
  },
  {
   "cell_type": "code",
   "execution_count": 12,
   "metadata": {},
   "outputs": [
    {
     "data": {
      "text/plain": [
       "[0]"
      ]
     },
     "execution_count": 12,
     "metadata": {},
     "output_type": "execute_result"
    }
   ],
   "source": [
    "poker.get_valid_actions(\"prajval\")"
   ]
  },
  {
   "cell_type": "code",
   "execution_count": 13,
   "metadata": {},
   "outputs": [
    {
     "data": {
      "text/plain": [
       "({'other_stats': [[20.0, 4]],\n",
       "  'total_pot_balance': 1,\n",
       "  'player_stats': [4, 0.0, 4]},\n",
       " -4,\n",
       " True)"
      ]
     },
     "execution_count": 13,
     "metadata": {},
     "output_type": "execute_result"
    }
   ],
   "source": [
    "poker.player_play(\"prajval\", 1)"
   ]
  },
  {
   "cell_type": "markdown",
   "metadata": {},
   "source": [
    "# III. Methods\n",
    "\n",
    "- Decide your TD learning approach: SARSA or Q-learning? \n",
    "- Describe your approach and the reason why you select it.\n",
    "- Finish epsilon_greedy function and other TODOs. Explain it.\n",
    "- Explain your codes."
   ]
  },
  {
   "cell_type": "markdown",
   "metadata": {},
   "source": [
    "### Temporal difference Learning\n",
    "\n",
    "*Temporal difference (TD) learning* considers that the agent knows only the partial information of the MDP. \n",
    "With only current and next state transition and without any model transition probability, TD lets the agent explore the environment to examine the random policy. \n",
    "With an estiate of the value function $V(s)$, $\\hat{V}(s)$, \n",
    "\n",
    "   $$ \n",
    "        \\begin{align}\n",
    "        V(s_t) &= R_{t+1} + \\gamma V(s_{t+1}) \\\\\n",
    "        V(s_t) &\\sim R_{t+1} + \\gamma \\hat{V}(s_{t+1}) \\\\\n",
    "        \\Rightarrow \\quad \\delta_t &= R_{t+1} + \\gamma \\hat{V}(s_{t+1}) - V(s_t).\n",
    "        \\end{align}\n",
    "    $$\n",
    "    \n",
    "Here, $\\delta$ represents the *temporal diffrence error*. \n",
    "We can use this error as a gradient to update the value estimation.\n",
    "\n",
    "$$\n",
    "    \\begin{align}\n",
    "        V(s_t) &\\leftarrow R_{t+1} + \\alpha \\delta_t \\\\\n",
    "        V(s_t) &\\leftarrow R_{t+1} + \\alpha (R_{t+1} + \\gamma \\hat{V}(s_{t+1}) - V(s_t))\n",
    "    \\end{align}\n",
    "$$\n",
    "\n",
    "we have defined Q function above to evaluate the state and action altogether.\n",
    "Updating the Q values with TD learning is similar to previous update with two different considerations. \n",
    "\n",
    "#### SARSA\n",
    "\n",
    "First, we update the Q with assumption that we follow a certain behavior policy. Thus, we call this as *on-policy control*, or **SARSA**. \n",
    "\n",
    "$$\n",
    "    Q(s_t, a_t) \\leftarrow Q(s_t, a_t) + \\alpha ( R_{t+1} + \\gamma Q(s_{t+1}, a_{t+1}) - Q(s_t, a_t)) \n",
    "$$\n",
    "\n",
    "#### Q-learning\n",
    "\n",
    "Without making assumption of behavior policy, we can explore other possible policies to update the Q. We call this as *off-policy control*, or **Q-learning**. \n",
    "\n",
    "\n",
    "$$\n",
    "    Q(s_t, a_t) \\leftarrow Q(s_t, a_t) + \\alpha ( R_{t+1} + \\gamma \\max_a Q(s_{t+1}, a) - Q(s_t, a_t)) \n",
    "$$"
   ]
  },
  {
   "cell_type": "markdown",
   "metadata": {},
   "source": [
    "## RLAgent for Maze\n",
    "\n",
    "For designing the RLAgent for the Maze problem, the TD learning algorithm I have taken is SARSA.\n",
    "\n",
    "I have choosen SARSA over QLearning because of following reason:\n",
    "\n",
    "    -- SARSA takes into account the control policy by which the agent is moving, and incorporates that into its update of action values, where Q-learning simply assumes that an optimal policy is being followed.\n",
    "    \n",
    "   For Example, In SARSA, the agent starts in state 1, performs action 1, and gets a reward (reward 1). Now, it’s in state 2 and performs another action (action 2) and gets the reward from this state (reward 2) before it goes back and updates the value of action 1 performed in state 1. In contrast, in Q-learning the agent starts in state 1, performs action 1 and gets a reward (reward 1), and then looks and sees what the maximum possible reward for an action is in state 2, and uses that to update the action value of performing action 1 in state 1. \n",
    "   \n",
    "   So the difference is in the way the future reward is found. In Q-learning it’s simply the highest possible action that can be taken from state 2, and in SARSA it’s the value of the actual action that was taken.\n",
    "\n"
   ]
  },
  {
   "cell_type": "markdown",
   "metadata": {},
   "source": [
    "#### Implementation Details\n",
    "\n",
    "__init__ : we initialize the GRIDWorld envinroment and initialize the Q table with Zeroes\n",
    "\n",
    "Epsilon_greed/greedy method: We generate the actions(up,down,left,right) either randomly or based on Q table by taking into consideration of the epsilon value. The higher the epsilon, the less chance of randomly choosing the action.\n",
    "\n",
    "**TRAIN**\n",
    "1. We take the start state and try to explore all the possible ways to reach the goal state.\n",
    "2. We iterate the max_iters times.\n",
    "3. As we are using SARSA, we are doing the following:\n",
    "    1. Get the state and perform the action and make a note of the reward\n",
    "    2. Move to the next state, find the suitable action a1.\n",
    "    3. Based on the action(current and next action), we modify the Q table.\n",
    "    4. This process keeps repeating till the Goal is reached\n",
    "Note: The less the epsilon value, the more the chance to explore the GRIDWorld\n",
    "\n",
    "**TEST**\n",
    "1. For the test, we give a start state, and only use greedy() method as we want to trace the path to the goal position by Q table values and not randomly.\n"
   ]
  },
  {
   "cell_type": "markdown",
   "metadata": {},
   "source": [
    "### Answer to the question in the code: \n",
    "\n",
    "When the GOAL is reached, why is the value zero(0)?\n",
    "\n",
    "    When ever the Goal is reached, our agent needs to stop at that point and need not explore any further. The Q table values are there to find weight/probability of the next possible state which is not needed when the goal is reached. So the values of the Goal Q cell is zero"
   ]
  },
  {
   "cell_type": "code",
   "execution_count": 14,
   "metadata": {},
   "outputs": [],
   "source": [
    "class RLAgent: \n",
    "    \"\"\"\n",
    "        Reinforcement Learning Agent Model for training/testing\n",
    "        with Tabular function approximation\n",
    "        \n",
    "    \"\"\"\n",
    "    \n",
    "    def __init__(self, env):\n",
    "        self.env = env\n",
    "        self.size = env.get_size()\n",
    "        self.n_a = len(env.get_actions())\n",
    "        # self.Q table including the surrounding border\n",
    "        self.Q = np.zeros((self.size[0], self.size[1], self.n_a))\n",
    "        self.Q[...] = 0\n",
    "        self.Q[self.env._map == 'H'] = -np.inf\n",
    "        \n",
    "    def epsilon_greed(self, epsilon, s):\n",
    "        if np.random.rand() < epsilon:\n",
    "            return np.random.randint(self.n_a)\n",
    "        else:\n",
    "            return self.greedy(s)\n",
    "            \n",
    "    def greedy(self,s):\n",
    "            return np.argmax(self.Q[s[0],s[1]])\n",
    "    \n",
    "    def train(self, start, **params):\n",
    "        # parameters\n",
    "        gamma = params.pop('gamma', 0.99)\n",
    "        alpha = params.pop('alpha', 0.1)\n",
    "        epsilon= params.pop('epsilon', 0.1)\n",
    "        maxiter= params.pop('maxiter', 1000) \n",
    "        maxstep= params.pop('maxstep', 1000)\n",
    "        \n",
    "        # init self.Q matrix\n",
    "        #self.Q[...] = 0\n",
    "        #self.Q[self.env._map == 'H'] = -np.inf\n",
    "        #print(\"Q \",self.Q)\n",
    "        # online train\n",
    "        # rewards and step trace\n",
    "        rtrace = []\n",
    "        steps = []\n",
    "        for j in range(maxiter):\n",
    "\n",
    "            self.env.init(start)\n",
    "            s = self.env.get_cur_state()\n",
    "            # selection an action\n",
    "            a = self.epsilon_greed(epsilon, s)\n",
    "\n",
    "            rewards = []\n",
    "            trace = np.array(coord_convert(s, self.size))\n",
    "            \n",
    "            # run simulation for max number of steps \n",
    "            for step in range(maxstep):\n",
    "                # move\n",
    "                r = self.env.next(a)\n",
    "                s1 = self.env.get_cur_state()\n",
    "                a1 = self.epsilon_greed(epsilon, s1)\n",
    "\n",
    "                rewards.append(r)\n",
    "                trace = np.vstack((trace, coord_convert(s1, self.size)))\n",
    "                # TODO: FINISH SARSA/Q-learning Rule here\n",
    "                # update self.Q table using SARSA\n",
    "                #print(\"size \",s,\" \",s1,\" \",a,\" \",a1)\n",
    "                \n",
    "                self.Q[s[0],s[1], a] += alpha * (r + gamma * self.Q[s1[0],s1[1], a1] - self.Q[s[0],s[1],a])\n",
    "                if self.env.is_goal(): # reached the goal\n",
    "                    # TODO: Why is this zero? Describe this in your code explanation.\n",
    "                    self.Q[s1[0], s1[1], a1] = 0\n",
    "                    break\n",
    "\n",
    "                s = s1\n",
    "                a = a1\n",
    "\n",
    "            rtrace.append(np.sum(rewards))\n",
    "            steps.append(step+1)\n",
    "        return rtrace, steps, trace # last trace of trajectory\n",
    "\n",
    "    def test(self, start, maxstep=1000):\n",
    "        # TODO: Add your test routine that exmines learned policy\n",
    "        #      Using the learned policy, generate the trajectory of \n",
    "        self.env.init(start)\n",
    "        s = self.env.get_cur_state()\n",
    "        a = self.greedy(s)\n",
    "        trace = np.array(coord_convert(s,self.size))\n",
    "        \n",
    "        for step in range(maxstep):\n",
    "            r = self.env.next(a)\n",
    "            s1 = self.env.get_cur_state()\n",
    "            a1 = self.greedy(s1)\n",
    "            trace = np.vstack((trace,coord_convert(s1,self.size)))\n",
    "            \n",
    "            if self.env.is_goal():\n",
    "                    break\n",
    "            s = s1\n",
    "            a = a1\n",
    "            \n",
    "        return trace            "
   ]
  },
  {
   "cell_type": "markdown",
   "metadata": {},
   "source": [
    "## RLAgent for One-Card Poker"
   ]
  },
  {
   "cell_type": "markdown",
   "metadata": {},
   "source": [
    "# IV - Results\n",
    "\n",
    "- Describe the choice of your parameters for $\\gamma$, $\\alpha$, and $\\epsilon$. \n",
    "  - Run experiments to find good parameters\n",
    "  - Show the experimental outputs to show the process of your selection\n",
    "- Visualize the results and explain outputs (even from mine.)\n",
    "  - Run the codes and tell me what you observe\n",
    "  - Add more visualizations to enrich your explanation."
   ]
  },
  {
   "cell_type": "markdown",
   "metadata": {},
   "source": [
    "### Utility functions for Plotting\n",
    "\n",
    "- finish the TODOs here for plotting"
   ]
  },
  {
   "cell_type": "code",
   "execution_count": 15,
   "metadata": {},
   "outputs": [],
   "source": [
    "### Plotting tools \n",
    "\n",
    "def plot_trace(agent, start, trace, title=\"test trajectory\"):\n",
    "    plt.plot(trace[:, 0], trace[:, 1], \"ko-\")\n",
    "    plt.text(env.goal_pos[1], agent.size[0]-env.goal_pos[0]-1, 'G')\n",
    "    plt.text(start[1], agent.size[0]-start[0]-1, 'S')\n",
    "    plt.xlim([0, agent.size[1]])\n",
    "    plt.ylim([0, agent.size[0]])\n",
    "    \n",
    "\n",
    "def plot_train(agent, rtrace, steps, trace, start):\n",
    "\n",
    "    fig = plt.figure(figsize=(10,8))\n",
    "    ax = fig.add_subplot(221)\n",
    "    # TODO: plot rewards \n",
    "    plt.plot(rtrace)\n",
    "    plt.ylabel(\"sum of rewards\")\n",
    "\n",
    "    ax1 = fig.add_subplot(222)\n",
    "    # TODO: plot steps\n",
    "    plt.plot(steps)\n",
    "    plt.ylabel(\"# steps\")\n",
    "\n",
    "    # contour plot for agent.Q\n",
    "    ax2 = fig.add_subplot(223)\n",
    "    xs = range(agent.size[1])\n",
    "    ys = range(agent.size[0])\n",
    "    maxQ = np.max(agent.Q, axis=2)\n",
    "    h_b = (maxQ==-np.inf)\n",
    "    maxQ[h_b] = 0\n",
    "    maxQ[h_b] = np.min(maxQ) - 100\n",
    "    cs = plt.contourf(xs, ys[::-1], maxQ)\n",
    "    plt.colorbar(cs)\n",
    "    plt.text(env.goal_pos[1], agent.size[0]-env.goal_pos[0]-1, 'G')\n",
    "    plt.text(start[1], agent.size[0]-start[0]-1, 'S')\n",
    "    plt.ylabel(\"max agent.Q\")\n",
    "\n",
    "    # plot traces\n",
    "    ax3 = fig.add_subplot(224)\n",
    "    plot_trace(agent, start, trace, \"trace of the last episode\")\n",
    "\n",
    "    plt.plot()"
   ]
  },
  {
   "cell_type": "markdown",
   "metadata": {},
   "source": [
    "### Training and Testing with GridWorld"
   ]
  },
  {
   "cell_type": "markdown",
   "metadata": {},
   "source": [
    "### When gamma=0.99 alpha=0.1 epsilon=0.9"
   ]
  },
  {
   "cell_type": "code",
   "execution_count": 40,
   "metadata": {
    "scrolled": false
   },
   "outputs": [
    {
     "data": {
      "image/png": "[encoded data removed]",
      "text/plain": [
       "<Figure size 720x576 with 5 Axes>"
      ]
     },
     "metadata": {},
     "output_type": "display_data"
    }
   ],
   "source": [
    "agent = RLAgent(env)\n",
    "start = [0,0]\n",
    "rtrace, steps, trace = agent.train(start, \n",
    "                                   gamma=0.99, \n",
    "                                   alpha=0.1, \n",
    "                                   epsilon=0.9, \n",
    "                                   maxiter=1000, \n",
    "                                   maxstep=1000)\n",
    "plot_train(agent, rtrace, steps, trace, start)"
   ]
  },
  {
   "cell_type": "markdown",
   "metadata": {},
   "source": [
    "### Results:\n",
    "1. Here I have set the value of the epsilon to 0.9, which means it mostly depends on the Q value and doesnot explore the GRID very much.\n",
    "2. Becasue of this, the number of steps taken is very random and doesnot keep decreasing as the training iterations increases.\n",
    "3. I feel, for the training, the value of alpha should be low ~0.1"
   ]
  },
  {
   "cell_type": "markdown",
   "metadata": {},
   "source": [
    "### When gamma=0.99 alpha=0.9 epsilon=0.1"
   ]
  },
  {
   "cell_type": "code",
   "execution_count": 41,
   "metadata": {},
   "outputs": [
    {
     "data": {
      "image/png": "[encoded data removed]",
      "text/plain": [
       "<Figure size 720x576 with 5 Axes>"
      ]
     },
     "metadata": {},
     "output_type": "display_data"
    }
   ],
   "source": [
    "agent = RLAgent(env)\n",
    "start = [0,0]\n",
    "rtrace, steps, trace = agent.train(start, \n",
    "                                   gamma=0.99, \n",
    "                                   alpha=0.9, \n",
    "                                   epsilon=0.1, \n",
    "                                   maxiter=1000, \n",
    "                                   maxstep=1000)\n",
    "plot_train(agent, rtrace, steps, trace, start)"
   ]
  },
  {
   "cell_type": "markdown",
   "metadata": {},
   "source": [
    "### Results:\n",
    "1. Here I have set the value of the alpha to 0.9, which means the learning rate is very high and there is a possibility for it to diverge.\n",
    "2. The grid world is explored, but the number of steps it reaches the goal and the optimum path is not considered much.\n",
    "2. Becasue of this, the number of steps taken is very random and doesnot keep decreasing as the training iterations increases.\n",
    "3. I feel, for the training, the value of alpha can be in middle ~0.5"
   ]
  },
  {
   "cell_type": "markdown",
   "metadata": {},
   "source": [
    "### When gamma=0.1 alpha=0.1 epsilon=0.9"
   ]
  },
  {
   "cell_type": "code",
   "execution_count": 42,
   "metadata": {
    "scrolled": true
   },
   "outputs": [
    {
     "data": {
      "image/png": "[encoded data removed]",
      "text/plain": [
       "<Figure size 720x576 with 5 Axes>"
      ]
     },
     "metadata": {},
     "output_type": "display_data"
    }
   ],
   "source": [
    "agent = RLAgent(env)\n",
    "start = [0,0]\n",
    "rtrace, steps, trace = agent.train(start, \n",
    "                                   gamma=0.1, \n",
    "                                   alpha=0.1, \n",
    "                                   epsilon=0.9, \n",
    "                                   maxiter=1000, \n",
    "                                   maxstep=1000)\n",
    "plot_train(agent, rtrace, steps, trace, start)"
   ]
  },
  {
   "cell_type": "markdown",
   "metadata": {},
   "source": [
    "### Results:\n",
    "1. From the graphs above, we can easily say, having a lower value of gamma is very bad.\n",
    "2. Gamma is the discounting factor, which means, it actually is the holder for saying \"how much you care about the reward\". The higher values of gamma means, we care more about the gamma.\n",
    "3. Unless in very rare cases, we always care about the reward. So gamma should be high"
   ]
  },
  {
   "cell_type": "markdown",
   "metadata": {},
   "source": [
    "### When gamma=0.99 alpha=0.5 epsilon=0.1"
   ]
  },
  {
   "cell_type": "code",
   "execution_count": 45,
   "metadata": {},
   "outputs": [],
   "source": [
    "agent = RLAgent(env)\n",
    "start = [0,0]\n",
    "rtrace, steps, trace = agent.train(start, \n",
    "                                   gamma=0.99, \n",
    "                                   alpha=0.5, \n",
    "                                   epsilon=0.1, \n",
    "                                   maxiter=1000, \n",
    "                                   maxstep=1000)"
   ]
  },
  {
   "cell_type": "code",
   "execution_count": 46,
   "metadata": {},
   "outputs": [
    {
     "data": {
      "image/png": "[encoded data removed]",
      "text/plain": [
       "<Figure size 720x576 with 5 Axes>"
      ]
     },
     "metadata": {},
     "output_type": "display_data"
    }
   ],
   "source": [
    "plot_train(agent, rtrace, steps, trace, start)\n"
   ]
  },
  {
   "cell_type": "markdown",
   "metadata": {},
   "source": [
    "### Results:\n",
    "1. With the above values, we can have a good exploration of the grid and the number of steps keeps decreasing as the agent keeps learning about the GRIDWorld."
   ]
  },
  {
   "cell_type": "markdown",
   "metadata": {},
   "source": [
    "### Selected Parameters:\n",
    "\n",
    "gamma=0.99\n",
    "\n",
    "alpha=0.5 \n",
    "\n",
    "epsilon=0.1"
   ]
  },
  {
   "cell_type": "markdown",
   "metadata": {},
   "source": [
    "### Results:"
   ]
  },
  {
   "cell_type": "code",
   "execution_count": 47,
   "metadata": {},
   "outputs": [
    {
     "data": {
      "image/png": "[encoded data removed]",
      "text/plain": [
       "<Figure size 432x288 with 1 Axes>"
      ]
     },
     "metadata": {},
     "output_type": "display_data"
    }
   ],
   "source": [
    "test_start = [0,2]\n",
    "test_trace = agent.test(test_start)\n",
    "plot_trace(agent, test_start, test_trace)"
   ]
  },
  {
   "cell_type": "code",
   "execution_count": 48,
   "metadata": {
    "scrolled": true
   },
   "outputs": [
    {
     "data": {
      "image/png": "[encoded data removed]",
      "text/plain": [
       "<Figure size 432x288 with 1 Axes>"
      ]
     },
     "metadata": {},
     "output_type": "display_data"
    }
   ],
   "source": [
    "test_start = [1,8]\n",
    "test_trace = agent.test(test_start)\n",
    "plot_trace(agent, test_start, test_trace)"
   ]
  },
  {
   "cell_type": "markdown",
   "metadata": {},
   "source": [
    "### REASON\n",
    "1. Here the goal is not reached, because that part of the grid is not explored at all. For this to work, we need to give different start states so that the grid can reach the goal (if reached, try to reach in a optimal path)."
   ]
  },
  {
   "cell_type": "markdown",
   "metadata": {},
   "source": [
    "## RLAgent for Poker"
   ]
  },
  {
   "cell_type": "markdown",
   "metadata": {},
   "source": [
    "Same as Maze, For designing the RLAgent for the Poker problem, the TD learning algorithm I have taken is SARSA.\n",
    "\n",
    "I have choosen SARSA over QLearning because of following reason:\n",
    "\n",
    "    -- SARSA takes into account the control policy by which the agent is moving, and incorporates that into its update of action values, where Q-learning simply assumes that an optimal policy is being followed.\n",
    "    \n",
    "   For Example, In SARSA, the agent starts in state 1, performs action 1, and gets a reward (reward 1). Now, it’s in state 2 and performs another action (action 2) and gets the reward from this state (reward 2) before it goes back and updates the value of action 1 performed in state 1. In contrast, in Q-learning the agent starts in state 1, performs action 1 and gets a reward (reward 1), and then looks and sees what the maximum possible reward for an action is in state 2, and uses that to update the action value of performing action 1 in state 1. \n",
    "   \n",
    "   So the difference is in the way the future reward is found. In Q-learning it’s simply the highest possible action that can be taken from state 2, and in SARSA it’s the value of the actual action that was taken.\n"
   ]
  },
  {
   "cell_type": "markdown",
   "metadata": {},
   "source": [
    "### Implementation Details\n",
    "\n",
    "#### StatePoker class:\n",
    "1. This class consists of details of the player at a particular round.\n",
    "    1. Value of the card: This can be from 1-13 values\n",
    "    2. Total Pot Balance: This ranges from 2- 8. Because initially the player bet 1 each. And there are max of 2 rounds and if both the players bet 3(which is the max), we have 2+3+3 = 8\n",
    "    3. Own Balance and Other Player Balance - This can range from 0-20(20 because, the player can win even the other players points )\n",
    "    4. Others bet: THis is the bet per deal which can be (1+3 = 4)\n",
    "    5. Round: which round of the deal the player is in\n",
    "    6. Own Bet:  THis is the bet per deal which can be (1+3 = 4)\n",
    "    \n",
    "#### RLAgentPoker\n",
    "__init__ : we are initializing the size of the Q table, Qtable and the number of actions the player can take(0-4)(Fold,1,2,3)\n",
    "\n",
    "epsilon_greed/greed: We are taking into account the valid_actions by get_valid_actions method and then choosing one from them either randomly or Q table(based on epsilon value)\n",
    "\n",
    "**TRAIN**\n",
    "\n",
    "1. We iterate the max_iters times.\n",
    "2. For every iteration, We create a poker game, and add players\n",
    "3. While the deal is on(till one of the player looses all the money/have one which is not worthy to play), we do the following:\n",
    "    1. Get the state of the poker usng get_curr_state, and update the value in StatePoker class.\n",
    "    2. Get the valid actions and perform a action using epsilong_greed method and play.\n",
    "    3. We make note of the reward\n",
    "    4. Move to the next state, find the suitable action a1 using epsilong_greed method.\n",
    "    5. Based on the action(current and next action), we modify the Q table.\n",
    "    6. We play the action\n",
    "    7. This process keeps repeating till the game is reset.\n",
    "\n",
    "**TEST**\n",
    "1. For the test, we create a poker game and only use greedy() method try to win the game.\n"
   ]
  },
  {
   "cell_type": "code",
   "execution_count": 54,
   "metadata": {},
   "outputs": [],
   "source": [
    "class StatePoker:\n",
    "    \"\"\"\n",
    "    This contains the state of the Poker\n",
    "    The state consists of following things:\n",
    "            1. Value of the card - 1-13\n",
    "            2. Total Pot Balance - 2-8\n",
    "            3. Own Balance - 0 - 20\n",
    "            4. Others bet - 0 - 4\n",
    "            5. Other player balance - 0 - 20\n",
    "            6. Which round - 0 -1 \n",
    "            7. own bet - 0 - 4\n",
    "    \"\"\"\n",
    "    def __init__(self,valueofcard, totPotBlnc, ownBlnc, othBet, othPlyrBal, roundNo,ownBet):\n",
    "        self.valueOfCard = valueofcard\n",
    "        self.totPotBlnc = totPotBlnc\n",
    "        self.ownBlnc = ownBlnc\n",
    "        self.othBet = othBet\n",
    "        self.othPlyrBal = othPlyrBal\n",
    "        self.roundNo = roundNo\n",
    "        self.ownBet = ownBet\n",
    "\n",
    "        \n",
    "class RLAgentPoker:\n",
    "    \"\"\"\n",
    "        The actions:\n",
    "            0 - 3\n",
    "    \"\"\"\n",
    "    def __init__(self):\n",
    "        self.pokerenv = None\n",
    "        self.size = [14,9,21,5,21,3,5]\n",
    "        self.n_actions = 4\n",
    "        self.Q = np.zeros((self.size[0],self.size[1],self.size[2],self.size[3],self.size[4],self.size[5],self.size[6],self.n_actions))\n",
    "        \n",
    "    def epsilon_greed(self,epsilon,s,valid_actions):\n",
    "        if np.random.rand() < epsilon:\n",
    "            #print('valid options: ',valid_actions)\n",
    "            return np.random.choice(valid_actions)\n",
    "        else:\n",
    "            return self.greedy(s,valid_actions)\n",
    "    \n",
    "    def greedy(self,s,valid_actions):\n",
    "        greedy_action_values = self.Q[s.valueOfCard,s.totPotBlnc,int(s.ownBlnc),s.othBet,int(s.othPlyrBal),s.roundNo,s.ownBet]\n",
    "        #print(\"valid actions \",valid_actions)\n",
    "        #print(\"Q value is \",greedy_action_values)\n",
    "        valid_action_Q_values = []\n",
    "        for i in valid_actions:\n",
    "            valid_action_Q_values.append(greedy_action_values[i])\n",
    "        #print('greedy valid options: ',valid_action_Q_values)\n",
    "        return np.argmax(valid_action_Q_values)\n",
    "    \n",
    "    def train(self,**params):\n",
    "        gamma = params.pop('gamma', 0.99)\n",
    "        alpha = params.pop('alpha', 0.1)\n",
    "        epsilon= params.pop('epsilon', 0.1)\n",
    "        maxiter= params.pop('maxiter', 1000) \n",
    "        \n",
    "        # init self.Q matrix\n",
    "        self.Q[...] = np.random.rand(*(self.Q.shape))\n",
    "        self.Q[:,:,0:2,:,:,:,:] = -np.inf\n",
    "        \n",
    "        rtrace = []\n",
    "        \n",
    "        for j in range(maxiter):\n",
    "            self.pokerenv = Poker(number_of_player=2)\n",
    "            player1 = Player(\"Meghana\", start_balance = 10, is_computer =  0)\n",
    "            computer1 = Player(\"computer1\", start_balance = 10, is_computer = 1)\n",
    "            self.pokerenv.add_player(player1)\n",
    "            self.pokerenv.add_player(computer1)\n",
    "            #print(\"Episode \",j)\n",
    "            r = 0\n",
    "            while not self.pokerenv.deal():\n",
    "                #print(\"Deal Start!\")\n",
    "                state = self.pokerenv.get_current_state()\n",
    "                #print(\"state \",state)\n",
    "                valueofcard = state['player_stats'][0]\n",
    "                totPotBlnc = state['total_pot_balance']\n",
    "                ownBlnc = state['player_stats'][1]\n",
    "                othBet = state['other_stats'][0][1]\n",
    "                othPlyrBal = state['other_stats'][0][0]\n",
    "                roundNo = 0\n",
    "                ownBet = state['player_stats'][2]\n",
    "                s = StatePoker(valueofcard,totPotBlnc,ownBlnc, othBet, othPlyrBal, roundNo,ownBet)\n",
    "                a = self.epsilon_greed(epsilon,s,self.pokerenv.get_valid_actions(\"Meghana\"))\n",
    "                result = self.pokerenv.player_play(\"Meghana\", a)\n",
    "                r = result[-2]\n",
    "                #print(\"Reward \",r)\n",
    "                while not result[-1]:\n",
    "                    #print(\"enter into inner while\")\n",
    "                    state = self.pokerenv.get_current_state()\n",
    "                    #print(\"state \",state)\n",
    "                    valueofcard = state['player_stats'][0]\n",
    "                    totPotBlnc = state['total_pot_balance']\n",
    "                    ownBlnc = state['player_stats'][1]\n",
    "                    othBet = state['other_stats'][0][1]\n",
    "                    othPlyrBal = state['other_stats'][0][0]\n",
    "                    roundNo = 1\n",
    "                    ownBet = state['player_stats'][2]\n",
    "                    s1 = StatePoker(valueofcard,totPotBlnc,ownBlnc, othBet, othPlyrBal, roundNo,ownBet)\n",
    "                    #print(\"valueofcard \",s.valueOfCard, \" totPotBlnc \",s.totPotBlnc,\" ownBlnc \",s.ownBlnc,\" othBet \",s.othBet,\" othPlyrBal \",s.othPlyrBal,\" roundNo \",s.roundNo,\" ownBet \",s.ownBet,\" action \",a)\n",
    "                    #print(\"valueofcard \",s1.valueOfCard, \" totPotBlnc \",s1.totPotBlnc,\" ownBlnc \",s1.ownBlnc,\" othBet \",s1.othBet,\" othPlyrBal \",s1.othPlyrBal,\" roundNo \",s1.roundNo,\" ownBet \",s1.ownBet,\" action \",a)\n",
    "                    a1 = self.epsilon_greed(epsilon, s1,self.pokerenv.get_valid_actions(\"Meghana\"))\n",
    "                    #print(\"a1 \",a1)\n",
    "                    #print(\"shape of Q \",self.Q.shape)\n",
    "                    #print(\"Q values \",self.Q[s.valueOfCard,s.totPotBlnc,int(s.ownBlnc),s.othBet,int(s.othPlyrBal),s.roundNo,s.ownBet, a])\n",
    "                    #print(\"Q value for s1 \",self.Q[s1.valueOfCard,s1.totPotBlnc,int(s1.ownBlnc),s1.othBet,int(s1.othPlyrBal),s1.roundNo,s1.ownBet, a1])\n",
    "                    \n",
    "                    #SARSA\n",
    "                    #print(\"valueofcard \",s.valueOfCard, \" totPotBlnc \",s.totPotBlnc,\" ownBlnc \",s.ownBlnc,\" othBet \",s.othBet,\" othPlyrBal \",s.othPlyrBal,\" roundNo \",s.roundNo,\" ownBet \",s.ownBet,\" action \",a,\" action2 \",a1)\n",
    "                    #print(\"valueofcard \",s1.valueOfCard, \" totPotBlnc \",s1.totPotBlnc,\" ownBlnc \",s1.ownBlnc,\" othBet \",s1.othBet,\" othPlyrBal \",s1.othPlyrBal,\" roundNo \",s1.roundNo,\" ownBet \",s1.ownBet,\" action \",a,\" action2 \",a1)\n",
    "                    self.Q[s.valueOfCard,s.totPotBlnc,int(s.ownBlnc),s.othBet,int(s.othPlyrBal),s.roundNo,s.ownBet, a] += alpha * (r + gamma * self.Q[s1.valueOfCard,s1.totPotBlnc,int(s1.ownBlnc),s1.othBet,int(s1.othPlyrBal),s1.roundNo,s1.ownBet, a1] - self.Q[s.valueOfCard,s.totPotBlnc,int(s.ownBlnc),s.othBet,int(s.othPlyrBal),s.roundNo,s.ownBet,a])\n",
    "                    \n",
    "                    result = self.pokerenv.player_play(\"Meghana\", a1)\n",
    "                    s = s1\n",
    "                    a = a1\n",
    "                    \n",
    "                    r = result[-2]\n",
    "                    #print(\"state \",self.pokerenv.get_current_state())\n",
    "                #print(\"Final Result: {}\".format(result))\n",
    "                #print(\"*\"*50)\n",
    "            rtrace.append(r)\n",
    "        return rtrace\n",
    "        \n",
    "    def test(self,pokerenv):\n",
    "        reward = 0\n",
    "        while not pokerenv.deal():\n",
    "            print(\"-\"*50)\n",
    "            print(\"Deal Start!\")\n",
    "            state = pokerenv.get_current_state()\n",
    "            print(\"Start State: {}\".format(state))\n",
    "            valueofcard = state['player_stats'][0]\n",
    "            totPotBlnc = state['total_pot_balance']\n",
    "            ownBlnc = state['player_stats'][1]\n",
    "            othBet = state['other_stats'][0][1]\n",
    "            othPlyrBal = state['other_stats'][0][0]\n",
    "            roundNo = 0\n",
    "            ownBet = state['player_stats'][2]\n",
    "            s = StatePoker(valueofcard,totPotBlnc,ownBlnc, othBet, othPlyrBal, roundNo,ownBet)\n",
    "            a = self.greedy(s,pokerenv.get_valid_actions(\"Meghana\"))\n",
    "            print(\"action: \",a)\n",
    "            result = pokerenv.player_play(\"Meghana\", a)\n",
    "            reward = result[-2]\n",
    "            while not result[-1]:\n",
    "                state = pokerenv.get_current_state()\n",
    "                valueofcard = state['player_stats'][0]\n",
    "                totPotBlnc = state['total_pot_balance']\n",
    "                ownBlnc = state['player_stats'][1]\n",
    "                othBet = state['other_stats'][0][1]\n",
    "                othPlyrBal = state['other_stats'][0][0]\n",
    "                roundNo = 1\n",
    "                ownBet = state['player_stats'][2]\n",
    "                s1 = StatePoker(valueofcard,totPotBlnc,ownBlnc, othBet, othPlyrBal, roundNo,ownBet)\n",
    "                actions = pokerenv.get_valid_actions(\"Meghana\")\n",
    "                a1 = self.greedy(s1,pokerenv.get_valid_actions(\"Meghana\"))\n",
    "                print(\"action \",a1)\n",
    "                result = pokerenv.player_play(\"Meghana\", a1)\n",
    "                reward = result[-2]\n",
    "            print(\"Final Result: {}\".format(result))\n",
    "            print(\"*\"*50)\n",
    "        return reward\n",
    "        "
   ]
  },
  {
   "cell_type": "markdown",
   "metadata": {},
   "source": [
    "### When gamma=0.99, alpha=0.1, epsilon=0.5"
   ]
  },
  {
   "cell_type": "code",
   "execution_count": 73,
   "metadata": {
    "scrolled": true
   },
   "outputs": [
    {
     "name": "stderr",
     "output_type": "stream",
     "text": [
      "C:\\Users\\megha\\AppData\\Local\\Continuum\\anaconda3\\lib\\site-packages\\ipykernel_launcher.py:110: RuntimeWarning: invalid value encountered in double_scalars\n"
     ]
    }
   ],
   "source": [
    "agentPoker = RLAgentPoker()\n",
    "\n",
    "rtrace = agentPoker.train(gamma=0.99, alpha=0.1, epsilon=0.5, maxiter=1000)"
   ]
  },
  {
   "cell_type": "code",
   "execution_count": 74,
   "metadata": {},
   "outputs": [],
   "source": [
    "def plot_poker_train(rtrace):\n",
    "    fig = plt.figure(figsize=(10,8))\n",
    "    ax = fig.add_subplot(221)\n",
    "    # TODO: plot rewards \n",
    "    plt.plot(rtrace)\n",
    "    plt.ylabel(\"sum of rewards\")"
   ]
  },
  {
   "cell_type": "code",
   "execution_count": 75,
   "metadata": {
    "scrolled": true
   },
   "outputs": [
    {
     "data": {
      "image/png": "[encoded data removed]",
      "text/plain": [
       "<Figure size 720x576 with 1 Axes>"
      ]
     },
     "metadata": {},
     "output_type": "display_data"
    }
   ],
   "source": [
    "plot_poker_train(rtrace)"
   ]
  },
  {
   "cell_type": "markdown",
   "metadata": {},
   "source": [
    "### Assumptions:\n",
    "1. Here when we plot the rewards,obtained, they seem to be very random. May be the learning rate is very low. Lets check with a higher learning rate."
   ]
  },
  {
   "cell_type": "markdown",
   "metadata": {},
   "source": [
    "### When gamma=0.99, alpha=0.5, epsilon=0.5"
   ]
  },
  {
   "cell_type": "code",
   "execution_count": 77,
   "metadata": {
    "scrolled": true
   },
   "outputs": [
    {
     "name": "stderr",
     "output_type": "stream",
     "text": [
      "C:\\Users\\megha\\AppData\\Local\\Continuum\\anaconda3\\lib\\site-packages\\ipykernel_launcher.py:110: RuntimeWarning: invalid value encountered in double_scalars\n"
     ]
    }
   ],
   "source": [
    "agentPoker = RLAgentPoker()\n",
    "\n",
    "rtrace = agentPoker.train(gamma=0.99, alpha=0.5, epsilon=0.5, maxiter=1000)"
   ]
  },
  {
   "cell_type": "code",
   "execution_count": 78,
   "metadata": {},
   "outputs": [],
   "source": [
    "def plot_poker_train(rtrace):\n",
    "    fig = plt.figure(figsize=(10,8))\n",
    "    ax = fig.add_subplot(221)\n",
    "    # TODO: plot rewards \n",
    "    plt.plot(rtrace)\n",
    "    plt.ylabel(\"sum of rewards\")"
   ]
  },
  {
   "cell_type": "code",
   "execution_count": 79,
   "metadata": {
    "scrolled": true
   },
   "outputs": [
    {
     "data": {
      "image/png": "[encoded data removed]",
      "text/plain": [
       "<Figure size 720x576 with 1 Axes>"
      ]
     },
     "metadata": {},
     "output_type": "display_data"
    }
   ],
   "source": [
    "plot_poker_train(rtrace)"
   ]
  },
  {
   "cell_type": "markdown",
   "metadata": {},
   "source": [
    "### Assumptions:\n",
    "1. When the learning rate is high,there are higher chances of getting a negative rewards. Let try to explore number of states by decreasing the epsilon value to 0.1, so that it can choose random action values."
   ]
  },
  {
   "cell_type": "markdown",
   "metadata": {},
   "source": [
    "### When gamma=0.99, alpha=0.5, epsilon=0.1"
   ]
  },
  {
   "cell_type": "code",
   "execution_count": 83,
   "metadata": {
    "scrolled": true
   },
   "outputs": [
    {
     "name": "stderr",
     "output_type": "stream",
     "text": [
      "C:\\Users\\megha\\AppData\\Local\\Continuum\\anaconda3\\lib\\site-packages\\ipykernel_launcher.py:110: RuntimeWarning: invalid value encountered in double_scalars\n"
     ]
    }
   ],
   "source": [
    "agentPoker = RLAgentPoker()\n",
    "\n",
    "rtrace = agentPoker.train(gamma=0.99, alpha=0.5, epsilon=0.1, maxiter=1000)"
   ]
  },
  {
   "cell_type": "code",
   "execution_count": 84,
   "metadata": {},
   "outputs": [],
   "source": [
    "def plot_poker_train(rtrace):\n",
    "    fig = plt.figure(figsize=(10,8))\n",
    "    ax = fig.add_subplot(221)\n",
    "    # TODO: plot rewards \n",
    "    plt.plot(rtrace)\n",
    "    plt.ylabel(\"sum of rewards\")"
   ]
  },
  {
   "cell_type": "code",
   "execution_count": 85,
   "metadata": {},
   "outputs": [
    {
     "data": {
      "image/png": "[encoded data removed]",
      "text/plain": [
       "<Figure size 720x576 with 1 Axes>"
      ]
     },
     "metadata": {},
     "output_type": "display_data"
    }
   ],
   "source": [
    "plot_poker_train(rtrace)"
   ]
  },
  {
   "cell_type": "markdown",
   "metadata": {},
   "source": [
    "### Assumptions:\n",
    "1. Now we can see that there are quite a less number of negative rewards. I think these parameters are okay for the poker agent to play well"
   ]
  },
  {
   "cell_type": "code",
   "execution_count": 53,
   "metadata": {
    "scrolled": true
   },
   "outputs": [
    {
     "name": "stdout",
     "output_type": "stream",
     "text": [
      "--------------------------------------------------\n",
      "Deal Start!\n",
      "Start State: {'other_stats': [[9, 1]], 'total_pot_balance': 2, 'player_stats': [12, 9, 1]}\n",
      "action:  3\n",
      "Final Result: ({'other_stats': [[9, 1]], 'total_pot_balance': 5, 'player_stats': [12, 11, 4]}, 5, True)\n",
      "**************************************************\n",
      "--------------------------------------------------\n",
      "Deal Start!\n",
      "Start State: {'other_stats': [[8, 1]], 'total_pot_balance': 2, 'player_stats': [2, 10, 1]}\n",
      "action:  3\n",
      "Final Result: ({'other_stats': [[8, 1]], 'total_pot_balance': 5, 'player_stats': [2, 12, 4]}, 5, True)\n",
      "**************************************************\n",
      "--------------------------------------------------\n",
      "Deal Start!\n",
      "Start State: {'other_stats': [[7, 1]], 'total_pot_balance': 2, 'player_stats': [1, 11, 1]}\n",
      "action:  1\n",
      "action  1\n",
      "Final Result: ({'other_stats': [[11.0, 4]], 'total_pot_balance': 7, 'player_stats': [1, 9, 3]}, -3, True)\n",
      "**************************************************\n",
      "--------------------------------------------------\n",
      "Deal Start!\n",
      "Start State: {'other_stats': [[10.0, 1]], 'total_pot_balance': 2, 'player_stats': [11, 8, 1]}\n",
      "action:  1\n",
      "Final Result: ({'other_stats': [[10.0, 1]], 'total_pot_balance': 3, 'player_stats': [11, 10, 2]}, 3, True)\n",
      "**************************************************\n",
      "--------------------------------------------------\n",
      "Deal Start!\n",
      "Start State: {'other_stats': [[9.0, 1]], 'total_pot_balance': 2, 'player_stats': [4, 9, 1]}\n",
      "action:  2\n",
      "Final Result: ({'other_stats': [[9.0, 1]], 'total_pot_balance': 4, 'player_stats': [4, 11, 3]}, 4, True)\n",
      "**************************************************\n",
      "--------------------------------------------------\n",
      "Deal Start!\n",
      "Start State: {'other_stats': [[8.0, 1]], 'total_pot_balance': 2, 'player_stats': [1, 10, 1]}\n",
      "action:  0\n",
      "Final Result: ({'other_stats': [[9.0, 1]], 'total_pot_balance': 2, 'player_stats': [1, 11.0, 1]}, 1.0, True)\n",
      "**************************************************\n",
      "--------------------------------------------------\n",
      "Deal Start!\n",
      "Start State: {'other_stats': [[8.0, 1]], 'total_pot_balance': 2, 'player_stats': [2, 10.0, 1]}\n",
      "action:  3\n",
      "Final Result: ({'other_stats': [[6.0, 3]], 'total_pot_balance': 7, 'player_stats': [2, 14.0, 4]}, 7, True)\n",
      "**************************************************\n",
      "--------------------------------------------------\n",
      "Deal Start!\n",
      "Start State: {'other_stats': [[5.0, 1]], 'total_pot_balance': 2, 'player_stats': [4, 13.0, 1]}\n",
      "action:  3\n",
      "Final Result: ({'other_stats': [[5.0, 1]], 'total_pot_balance': 5, 'player_stats': [4, 15.0, 4]}, 5, True)\n",
      "**************************************************\n",
      "--------------------------------------------------\n",
      "Deal Start!\n",
      "Start State: {'other_stats': [[4.0, 1]], 'total_pot_balance': 2, 'player_stats': [12, 14.0, 1]}\n",
      "action:  0\n",
      "Final Result: ({'other_stats': [[6.0, 4]], 'total_pot_balance': 5, 'player_stats': [12, 14.0, 1]}, -1, True)\n",
      "**************************************************\n",
      "--------------------------------------------------\n",
      "Deal Start!\n",
      "Start State: {'other_stats': [[5.0, 1]], 'total_pot_balance': 2, 'player_stats': [10, 13.0, 1]}\n",
      "action:  3\n",
      "Final Result: ({'other_stats': [[2.0, 4]], 'total_pot_balance': 8, 'player_stats': [10, 18.0, 4]}, 8.0, True)\n",
      "**************************************************\n",
      "--------------------------------------------------\n",
      "Deal Start!\n",
      "Start State: {'other_stats': [[1.0, 1]], 'total_pot_balance': 2, 'player_stats': [6, 17.0, 1]}\n",
      "action:  3\n",
      "Final Result: ({'other_stats': [[1.0, 1]], 'total_pot_balance': 5, 'player_stats': [6, 19.0, 4]}, 5, True)\n",
      "**************************************************\n",
      "The reward for the player is  5\n"
     ]
    }
   ],
   "source": [
    "pokerenv = Poker(number_of_player=2)\n",
    "player1 = Player(\"Meghana\", start_balance = 10, is_computer =  0)\n",
    "computer1 = Player(\"computer1\", start_balance = 10, is_computer = 1)\n",
    "\n",
    "pokerenv.add_player(player1)\n",
    "pokerenv.add_player(computer1)\n",
    "\n",
    "reward = agentPoker.test(pokerenv)\n",
    "print(\"The reward for the player is \",reward)"
   ]
  },
  {
   "cell_type": "markdown",
   "metadata": {},
   "source": [
    "### Selected Parameters:\n",
    "\n",
    "gamma=0.99\n",
    "\n",
    "alpha=0.5\n",
    "\n",
    "epsilon=0.1"
   ]
  },
  {
   "cell_type": "markdown",
   "metadata": {},
   "source": [
    "# V. Conclusions\n",
    "\n",
    "1. Choosing the type of RL algorithm was quite confusing. Later I went with SARSA, because QLearning assumes that it has optimum policy which is not. I am still researching to know in which cases we can prefer QLearning over SARSA.\n",
    "2. FOr the maze problem and poker, choosing the right parameter was difficult. I had to run lot of analysis and generate plots to get tot know the right parameters(gamma,alpha,epsilon)\n",
    "3. For the maze problem, one of the trace did not reach the goal. It took me some time to understand the reason behind it was because the grid was not explored."
   ]
  },
  {
   "cell_type": "markdown",
   "metadata": {},
   "source": [
    "# Extra Credit\n",
    "\n",
    "- Let us have Poker Tournament in class (Nov 6th.)!\n",
    "- Top 4 (or more) students will get an extra credit. \n",
    "- 2 (or more?) unique training attemps will also get an extra credit. (Sales for it to be considered.) "
   ]
  },
  {
   "cell_type": "markdown",
   "metadata": {},
   "source": [
    "## Grading\n",
    "\n",
    "We will test your notebook with an additional grid.txt file. Please make sure to test in different maze input files. \n",
    "\n",
    "points | | description\n",
    "--|--|:--\n",
    "5 | Overview| states the objective and the appraoch \n",
    "10 | Maze Problem | \n",
    " | 5| Includes description of maze problem\n",
    " | 5| Explains the GridWorld\n",
    "10 | Poker \n",
    " | 5| Includes description of poker problem\n",
    " | 5| Explains the Poker\n",
    "25 | Methods | \n",
    " | 5| Review of the SARSA and Q-Learning\n",
    " | 5| Choice of TD learning and Reason\n",
    " |10| Implementation of the selected approach\n",
    " | 5| explanation of the codes\n",
    "45 | Results \n",
    "| 5| Reports the selected parameters for both problems. \n",
    "|20| Experimental outputs that show the choice of parameters. How do you choose them? (10 points per each problem)\n",
    "|10| Output plots (5 for each)\n",
    "|10| reading and analysis of learning results and plots (5 for each)\n",
    "5 | Conclusions \n"
   ]
  },
  {
   "cell_type": "code",
   "execution_count": null,
   "metadata": {},
   "outputs": [],
   "source": []
  }
 ],
 "metadata": {
  "kernelspec": {
   "display_name": "Python 3",
   "language": "python",
   "name": "python3"
  },
  "language_info": {
   "codemirror_mode": {
    "name": "ipython",
    "version": 3
   },
   "file_extension": ".py",
   "mimetype": "text/x-python",
   "name": "python",
   "nbconvert_exporter": "python",
   "pygments_lexer": "ipython3",
   "version": "3.6.5"
  }
 },
 "nbformat": 4,
 "nbformat_minor": 2
}
